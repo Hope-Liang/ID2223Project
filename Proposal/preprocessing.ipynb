{
 "cells": [
  {
   "cell_type": "code",
   "execution_count": 121,
   "id": "4523f885",
   "metadata": {},
   "outputs": [],
   "source": [
    "import pandas as pd\n",
    "from sodapy import Socrata\n",
    "client = Socrata(\"data.sfgov.org\",\n",
    "                 \"gZmg4iarmENBTk1Vzsb94bnse\",\n",
    "                 username=\"xinyulia@kth.se\",\n",
    "                 password=\"Xw990504\")\n",
    "\n",
    "results = client.get(\"wg3w-h783\", limit=800000)\n",
    "\n",
    "results_df = pd.DataFrame.from_records(results)"
   ]
  },
  {
   "cell_type": "code",
   "execution_count": 122,
   "id": "221a24ac",
   "metadata": {},
   "outputs": [
    {
     "data": {
      "text/plain": [
       "Index(['incident_datetime', 'incident_date', 'incident_time', 'incident_year',\n",
       "       'incident_day_of_week', 'report_datetime', 'row_id', 'incident_id',\n",
       "       'incident_number', 'report_type_code', 'report_type_description',\n",
       "       'filed_online', 'incident_code', 'incident_category',\n",
       "       'incident_subcategory', 'incident_description', 'resolution',\n",
       "       'police_district', 'cad_number', 'intersection', 'cnn',\n",
       "       'analysis_neighborhood', 'supervisor_district', 'latitude', 'longitude',\n",
       "       'point', ':@computed_region_jwn9_ihcz', ':@computed_region_26cr_cadq',\n",
       "       ':@computed_region_qgnn_b9vv', ':@computed_region_nqbw_i6c3',\n",
       "       ':@computed_region_h4ep_8xdi', ':@computed_region_n4xg_c4py',\n",
       "       ':@computed_region_jg9y_a9du'],\n",
       "      dtype='object')"
      ]
     },
     "execution_count": 122,
     "metadata": {},
     "output_type": "execute_result"
    }
   ],
   "source": [
    "results_df.columns"
   ]
  },
  {
   "cell_type": "code",
   "execution_count": 123,
   "id": "8e444d25",
   "metadata": {},
   "outputs": [],
   "source": [
    "results_df.drop(columns=['incident_date','incident_time', 'incident_year','report_datetime','row_id','incident_id',\n",
    "                         'incident_number','report_type_description','filed_online','incident_code','incident_subcategory',\n",
    "                         'incident_description','resolution','cad_number','intersection','cnn','analysis_neighborhood',\n",
    "                         'supervisor_district','point',':@computed_region_jwn9_ihcz',':@computed_region_26cr_cadq',\n",
    "                         ':@computed_region_qgnn_b9vv',':@computed_region_nqbw_i6c3',':@computed_region_h4ep_8xdi',\n",
    "                         ':@computed_region_n4xg_c4py',':@computed_region_jg9y_a9du'], inplace=True)"
   ]
  },
  {
   "cell_type": "code",
   "execution_count": 124,
   "id": "7f0c1044",
   "metadata": {},
   "outputs": [],
   "source": [
    "results_df.dropna(inplace=True)"
   ]
  },
  {
   "cell_type": "code",
   "execution_count": 125,
   "id": "c84d3823",
   "metadata": {},
   "outputs": [
    {
     "data": {
      "text/plain": [
       "Index(['incident_datetime', 'incident_day_of_week', 'report_type_code',\n",
       "       'incident_category', 'police_district', 'latitude', 'longitude'],\n",
       "      dtype='object')"
      ]
     },
     "execution_count": 125,
     "metadata": {},
     "output_type": "execute_result"
    }
   ],
   "source": [
    "results_df.columns"
   ]
  },
  {
   "cell_type": "code",
   "execution_count": 6,
   "id": "1bff0064",
   "metadata": {},
   "outputs": [
    {
     "name": "stderr",
     "output_type": "stream",
     "text": [
      "/Users/lxy/miniforge3/envs/ID2223/lib/python3.9/site-packages/sklearn/utils/deprecation.py:87: FutureWarning: Function get_feature_names is deprecated; get_feature_names is deprecated in 1.0 and will be removed in 1.2. Please use get_feature_names_out instead.\n",
      "  warnings.warn(msg, category=FutureWarning)\n"
     ]
    }
   ],
   "source": [
    "from preprocessor_pipeline import preprocessing_incident\n",
    "results_df_preprocessed = preprocessing_incident(results_df)"
   ]
  },
  {
   "cell_type": "code",
   "execution_count": 8,
   "id": "9dcb07e4",
   "metadata": {},
   "outputs": [
    {
     "data": {
      "text/plain": [
       "Index(['incident_day_of_week_Friday', 'incident_day_of_week_Monday',\n",
       "       'incident_day_of_week_Saturday', 'incident_day_of_week_Sunday',\n",
       "       'incident_day_of_week_Thursday', 'incident_day_of_week_Tuesday',\n",
       "       'incident_day_of_week_Wednesday', 'report_type_code_II',\n",
       "       'report_type_code_IS', 'report_type_code_VI', 'report_type_code_VS',\n",
       "       'police_district_Bayview', 'police_district_Central',\n",
       "       'police_district_Ingleside', 'police_district_Mission',\n",
       "       'police_district_Northern', 'police_district_Out of SF',\n",
       "       'police_district_Park', 'police_district_Richmond',\n",
       "       'police_district_Southern', 'police_district_Taraval',\n",
       "       'police_district_Tenderloin', 'incident_datetime', 'incident_category',\n",
       "       'latitude', 'longitude', 'incident_month', 'incident_year',\n",
       "       'incident_hour'],\n",
       "      dtype='object')"
      ]
     },
     "execution_count": 8,
     "metadata": {},
     "output_type": "execute_result"
    }
   ],
   "source": [
    "results_df_preprocessed.columns"
   ]
  },
  {
   "cell_type": "code",
   "execution_count": 16,
   "id": "aaf1a950",
   "metadata": {},
   "outputs": [],
   "source": [
    "numeric_columns = results_df_preprocessed.columns.drop(['incident_datetime','incident_category'])\n",
    "results_df_preprocessed[numeric_columns] = results_df_preprocessed[numeric_columns].apply(pd.to_numeric)\n",
    "results_df_preprocessed['incident_datetime'] = results_df_preprocessed['incident_datetime'].apply(pd.to_datetime)\n",
    "results_df_preprocessed.rename(columns={\"police_district_Out of SF\": \"police_district_OutOfSF\"},inplace=True)\n",
    "#results_df_preprocessed.astype(\"float64\").dtypes"
   ]
  },
  {
   "cell_type": "code",
   "execution_count": 21,
   "id": "13fda901",
   "metadata": {},
   "outputs": [
    {
     "data": {
      "text/plain": [
       "incident_day_of_week_Friday              float64\n",
       "incident_day_of_week_Monday              float64\n",
       "incident_day_of_week_Saturday            float64\n",
       "incident_day_of_week_Sunday              float64\n",
       "incident_day_of_week_Thursday            float64\n",
       "incident_day_of_week_Tuesday             float64\n",
       "incident_day_of_week_Wednesday           float64\n",
       "report_type_code_II                      float64\n",
       "report_type_code_IS                      float64\n",
       "report_type_code_VI                      float64\n",
       "report_type_code_VS                      float64\n",
       "police_district_Bayview                  float64\n",
       "police_district_Central                  float64\n",
       "police_district_Ingleside                float64\n",
       "police_district_Mission                  float64\n",
       "police_district_Northern                 float64\n",
       "police_district_OutOfSF                  float64\n",
       "police_district_Park                     float64\n",
       "police_district_Richmond                 float64\n",
       "police_district_Southern                 float64\n",
       "police_district_Taraval                  float64\n",
       "police_district_Tenderloin               float64\n",
       "incident_datetime                 datetime64[ns]\n",
       "incident_category                         object\n",
       "latitude                                 float64\n",
       "longitude                                float64\n",
       "incident_month                             int64\n",
       "incident_year                              int64\n",
       "incident_hour                              int64\n",
       "dtype: object"
      ]
     },
     "execution_count": 21,
     "metadata": {},
     "output_type": "execute_result"
    }
   ],
   "source": [
    "results_df_preprocessed.dtypes"
   ]
  },
  {
   "cell_type": "code",
   "execution_count": 22,
   "id": "8c2223ce",
   "metadata": {},
   "outputs": [],
   "source": [
    "results_df['incident_month']=pd.to_datetime(results_df[\"incident_datetime\"]).dt.month\n",
    "results_df['incident_year']=pd.to_datetime(results_df[\"incident_datetime\"]).dt.year\n",
    "results_df['incident_hour']=pd.to_datetime(results_df[\"incident_datetime\"]).dt.hour\n",
    "#results_df['incident_dayofweek']=pd.to_datetime(results_df[\"incident_datetime\"]).dt.dayofweek"
   ]
  },
  {
   "cell_type": "code",
   "execution_count": 30,
   "id": "ca13e5eb",
   "metadata": {},
   "outputs": [],
   "source": [
    "results_df=results_df.astype({'latitude': 'float64', 'longitude': 'float64'})"
   ]
  },
  {
   "cell_type": "code",
   "execution_count": 31,
   "id": "9826210f",
   "metadata": {},
   "outputs": [
    {
     "data": {
      "text/plain": [
       "incident_datetime        object\n",
       "incident_day_of_week     object\n",
       "report_type_code         object\n",
       "incident_category        object\n",
       "police_district          object\n",
       "latitude                float64\n",
       "longitude               float64\n",
       "incident_month            int64\n",
       "incident_year             int64\n",
       "incident_hour             int64\n",
       "incident_dayofweek        int64\n",
       "dtype: object"
      ]
     },
     "execution_count": 31,
     "metadata": {},
     "output_type": "execute_result"
    }
   ],
   "source": [
    "results_df.dtypes"
   ]
  },
  {
   "cell_type": "code",
   "execution_count": 33,
   "id": "a9d95243",
   "metadata": {},
   "outputs": [],
   "source": [
    "results_df.drop(columns=['incident_datetime'],inplace=True)"
   ]
  },
  {
   "cell_type": "code",
   "execution_count": 34,
   "id": "5eaed454",
   "metadata": {},
   "outputs": [
    {
     "data": {
      "text/html": [
       "<div>\n",
       "<style scoped>\n",
       "    .dataframe tbody tr th:only-of-type {\n",
       "        vertical-align: middle;\n",
       "    }\n",
       "\n",
       "    .dataframe tbody tr th {\n",
       "        vertical-align: top;\n",
       "    }\n",
       "\n",
       "    .dataframe thead th {\n",
       "        text-align: right;\n",
       "    }\n",
       "</style>\n",
       "<table border=\"1\" class=\"dataframe\">\n",
       "  <thead>\n",
       "    <tr style=\"text-align: right;\">\n",
       "      <th></th>\n",
       "      <th>25</th>\n",
       "      <th>26</th>\n",
       "      <th>27</th>\n",
       "      <th>28</th>\n",
       "      <th>29</th>\n",
       "    </tr>\n",
       "  </thead>\n",
       "  <tbody>\n",
       "    <tr>\n",
       "      <th>incident_day_of_week</th>\n",
       "      <td>Saturday</td>\n",
       "      <td>Saturday</td>\n",
       "      <td>Saturday</td>\n",
       "      <td>Saturday</td>\n",
       "      <td>Saturday</td>\n",
       "    </tr>\n",
       "    <tr>\n",
       "      <th>report_type_code</th>\n",
       "      <td>II</td>\n",
       "      <td>II</td>\n",
       "      <td>II</td>\n",
       "      <td>II</td>\n",
       "      <td>IS</td>\n",
       "    </tr>\n",
       "    <tr>\n",
       "      <th>incident_category</th>\n",
       "      <td>Missing Person</td>\n",
       "      <td>Fraud</td>\n",
       "      <td>Traffic Violation Arrest</td>\n",
       "      <td>Other Miscellaneous</td>\n",
       "      <td>Drug Offense</td>\n",
       "    </tr>\n",
       "    <tr>\n",
       "      <th>police_district</th>\n",
       "      <td>Ingleside</td>\n",
       "      <td>Central</td>\n",
       "      <td>Park</td>\n",
       "      <td>Northern</td>\n",
       "      <td>Bayview</td>\n",
       "    </tr>\n",
       "    <tr>\n",
       "      <th>latitude</th>\n",
       "      <td>37.726236</td>\n",
       "      <td>37.805497</td>\n",
       "      <td>37.77279</td>\n",
       "      <td>37.789837</td>\n",
       "      <td>37.739853</td>\n",
       "    </tr>\n",
       "    <tr>\n",
       "      <th>longitude</th>\n",
       "      <td>-122.433624</td>\n",
       "      <td>-122.422007</td>\n",
       "      <td>-122.447497</td>\n",
       "      <td>-122.434027</td>\n",
       "      <td>-122.391268</td>\n",
       "    </tr>\n",
       "    <tr>\n",
       "      <th>incident_month</th>\n",
       "      <td>5</td>\n",
       "      <td>5</td>\n",
       "      <td>5</td>\n",
       "      <td>5</td>\n",
       "      <td>5</td>\n",
       "    </tr>\n",
       "    <tr>\n",
       "      <th>incident_year</th>\n",
       "      <td>2021</td>\n",
       "      <td>2021</td>\n",
       "      <td>2021</td>\n",
       "      <td>2021</td>\n",
       "      <td>2021</td>\n",
       "    </tr>\n",
       "    <tr>\n",
       "      <th>incident_hour</th>\n",
       "      <td>13</td>\n",
       "      <td>17</td>\n",
       "      <td>3</td>\n",
       "      <td>10</td>\n",
       "      <td>16</td>\n",
       "    </tr>\n",
       "  </tbody>\n",
       "</table>\n",
       "</div>"
      ],
      "text/plain": [
       "                                  25          26                        27  \\\n",
       "incident_day_of_week        Saturday    Saturday                  Saturday   \n",
       "report_type_code                  II          II                        II   \n",
       "incident_category     Missing Person       Fraud  Traffic Violation Arrest   \n",
       "police_district            Ingleside     Central                      Park   \n",
       "latitude                   37.726236   37.805497                  37.77279   \n",
       "longitude                -122.433624 -122.422007               -122.447497   \n",
       "incident_month                     5           5                         5   \n",
       "incident_year                   2021        2021                      2021   \n",
       "incident_hour                     13          17                         3   \n",
       "\n",
       "                                       28            29  \n",
       "incident_day_of_week             Saturday      Saturday  \n",
       "report_type_code                       II            IS  \n",
       "incident_category     Other Miscellaneous  Drug Offense  \n",
       "police_district                  Northern       Bayview  \n",
       "latitude                        37.789837     37.739853  \n",
       "longitude                     -122.434027   -122.391268  \n",
       "incident_month                          5             5  \n",
       "incident_year                        2021          2021  \n",
       "incident_hour                          10            16  "
      ]
     },
     "execution_count": 34,
     "metadata": {},
     "output_type": "execute_result"
    }
   ],
   "source": [
    "results_df.head().T"
   ]
  },
  {
   "cell_type": "code",
   "execution_count": 28,
   "id": "c81cc34b",
   "metadata": {},
   "outputs": [
    {
     "data": {
      "text/html": [
       "<div>\n",
       "<style scoped>\n",
       "    .dataframe tbody tr th:only-of-type {\n",
       "        vertical-align: middle;\n",
       "    }\n",
       "\n",
       "    .dataframe tbody tr th {\n",
       "        vertical-align: top;\n",
       "    }\n",
       "\n",
       "    .dataframe thead th {\n",
       "        text-align: right;\n",
       "    }\n",
       "</style>\n",
       "<table border=\"1\" class=\"dataframe\">\n",
       "  <thead>\n",
       "    <tr style=\"text-align: right;\">\n",
       "      <th></th>\n",
       "      <th>incident_datetime</th>\n",
       "      <th>incident_time</th>\n",
       "      <th>incident_year</th>\n",
       "      <th>incident_day_of_week</th>\n",
       "      <th>report_type_code</th>\n",
       "      <th>incident_category</th>\n",
       "      <th>police_district</th>\n",
       "      <th>latitude</th>\n",
       "      <th>longitude</th>\n",
       "    </tr>\n",
       "  </thead>\n",
       "  <tbody>\n",
       "    <tr>\n",
       "      <th>count</th>\n",
       "      <td>643923</td>\n",
       "      <td>643923</td>\n",
       "      <td>643923</td>\n",
       "      <td>643923</td>\n",
       "      <td>643923</td>\n",
       "      <td>643923</td>\n",
       "      <td>643923</td>\n",
       "      <td>643923</td>\n",
       "      <td>643923</td>\n",
       "    </tr>\n",
       "    <tr>\n",
       "      <th>unique</th>\n",
       "      <td>306840</td>\n",
       "      <td>1440</td>\n",
       "      <td>6</td>\n",
       "      <td>7</td>\n",
       "      <td>4</td>\n",
       "      <td>49</td>\n",
       "      <td>11</td>\n",
       "      <td>6467</td>\n",
       "      <td>6467</td>\n",
       "    </tr>\n",
       "    <tr>\n",
       "      <th>top</th>\n",
       "      <td>2021-11-23T13:00:00.000</td>\n",
       "      <td>00:00</td>\n",
       "      <td>2018</td>\n",
       "      <td>Friday</td>\n",
       "      <td>II</td>\n",
       "      <td>Larceny Theft</td>\n",
       "      <td>Central</td>\n",
       "      <td>37.784560141211806</td>\n",
       "      <td>-122.40733704162238</td>\n",
       "    </tr>\n",
       "    <tr>\n",
       "      <th>freq</th>\n",
       "      <td>96</td>\n",
       "      <td>18818</td>\n",
       "      <td>144678</td>\n",
       "      <td>98410</td>\n",
       "      <td>512901</td>\n",
       "      <td>188751</td>\n",
       "      <td>96806</td>\n",
       "      <td>3927</td>\n",
       "      <td>3927</td>\n",
       "    </tr>\n",
       "  </tbody>\n",
       "</table>\n",
       "</div>"
      ],
      "text/plain": [
       "              incident_datetime incident_time incident_year  \\\n",
       "count                    643923        643923        643923   \n",
       "unique                   306840          1440             6   \n",
       "top     2021-11-23T13:00:00.000         00:00          2018   \n",
       "freq                         96         18818        144678   \n",
       "\n",
       "       incident_day_of_week report_type_code incident_category  \\\n",
       "count                643923           643923            643923   \n",
       "unique                    7                4                49   \n",
       "top                  Friday               II     Larceny Theft   \n",
       "freq                  98410           512901            188751   \n",
       "\n",
       "       police_district            latitude            longitude  \n",
       "count           643923              643923               643923  \n",
       "unique              11                6467                 6467  \n",
       "top            Central  37.784560141211806  -122.40733704162238  \n",
       "freq             96806                3927                 3927  "
      ]
     },
     "execution_count": 28,
     "metadata": {},
     "output_type": "execute_result"
    }
   ],
   "source": [
    "results_df.describe()"
   ]
  },
  {
   "cell_type": "code",
   "execution_count": 22,
   "id": "7c09ef98",
   "metadata": {},
   "outputs": [
    {
     "data": {
      "text/plain": [
       "incident_datetime       0\n",
       "incident_day_of_week    0\n",
       "report_type_code        0\n",
       "incident_category       0\n",
       "police_district         0\n",
       "latitude                0\n",
       "longitude               0\n",
       "incident_month          0\n",
       "incident_year           0\n",
       "incident_hour           0\n",
       "dtype: int64"
      ]
     },
     "execution_count": 22,
     "metadata": {},
     "output_type": "execute_result"
    }
   ],
   "source": [
    "results_df.isna().sum()"
   ]
  },
  {
   "cell_type": "code",
   "execution_count": 126,
   "id": "ec303cab",
   "metadata": {},
   "outputs": [],
   "source": [
    "def merge_category(x):\n",
    "    if x == \"Human Trafficking (A), Commercial Sex Acts\":\n",
    "        return \"Human Trafficking\"\n",
    "    elif x == \"Human Trafficking (B), Involuntary Servitude\":\n",
    "        return \"Human Trafficking\"\n",
    "    elif x == \"Human Trafficking, Commercial Sex Acts\":\n",
    "        return \"Human Trafficking\"\n",
    "    elif x == \"Weapons Offence\":\n",
    "        return \"Weapons Offense\"\n",
    "    elif x == \"Drug Violation\":\n",
    "        return \"Drug Offense\"\n",
    "    elif x == \"Motor Vehicle Theft?\":\n",
    "        return \"Motor Vehicle Theft\"\n",
    "    elif x == \"Suspicious Occ\":\n",
    "        return \"Suspicious\"\n",
    "    elif x == \"Rape\":\n",
    "        return \"Sex Offense\"\n",
    "    else:\n",
    "        return x\n",
    "results_df['incident_category']=results_df['incident_category'].apply(merge_category)"
   ]
  },
  {
   "cell_type": "code",
   "execution_count": 127,
   "id": "46b9cdab",
   "metadata": {},
   "outputs": [],
   "source": [
    "def merge_category_2(x):\n",
    "    if x == \"Gambling\":\n",
    "        return \"Other\"\n",
    "    elif x == \"Homicide\":\n",
    "        return \"Other\"\n",
    "    elif x == \"Human Trafficking\":\n",
    "        return \"Other\"\n",
    "    elif x == \"Liquor Laws\":\n",
    "        return \"Other\"\n",
    "    elif x == \"Other Miscellaneous\":\n",
    "        return \"Other\"\n",
    "    elif x == \"Weapons Carrying Etc\":\n",
    "        return \"Weapons Offense\"\n",
    "    elif x == \"Offences Against The Family And Children\":\n",
    "        return \"Other Offenses\"\n",
    "    elif x == \"Sex Offense\":\n",
    "        return \"Other Offenses\"\n",
    "    elif x == \"Prostitution\":\n",
    "        return \"Other\"\n",
    "    elif x == \"Case Closure\":\n",
    "        return \"Other\"\n",
    "    elif x == \"Courtesy Report\":\n",
    "        return \"Other\"\n",
    "    elif x == \"Fire Report\":\n",
    "        return \"Other\"\n",
    "    elif x == \"Suicide\":\n",
    "        return \"Other\"\n",
    "    elif x == \"Embezzlement\":\n",
    "        return \"Financial Offense\"\n",
    "    elif x == \"Forgery And Counterfeiting\":\n",
    "        return \"Financial Offense\"\n",
    "    elif x == \"Fraud\":\n",
    "        return \"Financial Offense\"\n",
    "    elif x == \"Lost Property\":\n",
    "        return \"Financial Offense\"\n",
    "    elif x == \"Stolen Property\":\n",
    "        return \"Financial Offense\"\n",
    "    elif x == \"Motor Vehicle Theft\":\n",
    "        return \"Traffic and Vehicle Offense\"\n",
    "    elif x == \"Recovered Vehicle\":\n",
    "        return \"Traffic and Vehicle Offense\"\n",
    "    elif x == \"Traffic Collision\":\n",
    "        return \"Traffic and Vehicle Offense\"\n",
    "    elif x == \"Traffic Violation Arrest\":\n",
    "        return \"Traffic and Vehicle Offense\"\n",
    "    elif x == \"Vehicle Impounded\":\n",
    "        return \"Traffic and Vehicle Offense\"\n",
    "    elif x == \"Vehicle Misplaced\":\n",
    "        return \"Traffic and Vehicle Offense\"\n",
    "    elif x == \"Civil Sidewalks\":\n",
    "        return \"Traffic and Vehicle Offense\"\n",
    "    elif x == \"Burglary\":\n",
    "        return \"Theft and Robbery\"\n",
    "    elif x == \"Larceny Theft\":\n",
    "        return \"Theft and Robbery\"\n",
    "    elif x == \"Robbery\":\n",
    "        return \"Theft and Robbery\"\n",
    "    elif x == \"Arson\":\n",
    "        return \"Assault\"\n",
    "    elif x == \"Disorderly Conduct\":\n",
    "        return \"Other Offenses\"\n",
    "    elif x == \"Vandalism\":\n",
    "        return \"Malicious Mischief\"\n",
    "    elif x == \"Miscellaneous Investigation\":\n",
    "        return \"Suspicious\"\n",
    "    else:\n",
    "        return x\n",
    "results_df['incident_category']=results_df['incident_category'].apply(merge_category_2)"
   ]
  },
  {
   "cell_type": "code",
   "execution_count": 128,
   "id": "ce5bb70d",
   "metadata": {},
   "outputs": [
    {
     "data": {
      "text/html": [
       "<div>\n",
       "<style scoped>\n",
       "    .dataframe tbody tr th:only-of-type {\n",
       "        vertical-align: middle;\n",
       "    }\n",
       "\n",
       "    .dataframe tbody tr th {\n",
       "        vertical-align: top;\n",
       "    }\n",
       "\n",
       "    .dataframe thead th {\n",
       "        text-align: right;\n",
       "    }\n",
       "</style>\n",
       "<table border=\"1\" class=\"dataframe\">\n",
       "  <thead>\n",
       "    <tr style=\"text-align: right;\">\n",
       "      <th></th>\n",
       "      <th>incident_datetime</th>\n",
       "    </tr>\n",
       "    <tr>\n",
       "      <th>incident_category</th>\n",
       "      <th></th>\n",
       "    </tr>\n",
       "  </thead>\n",
       "  <tbody>\n",
       "    <tr>\n",
       "      <th>Assault</th>\n",
       "      <td>43167</td>\n",
       "    </tr>\n",
       "    <tr>\n",
       "      <th>Drug Offense</th>\n",
       "      <td>16455</td>\n",
       "    </tr>\n",
       "    <tr>\n",
       "      <th>Financial Offense</th>\n",
       "      <td>43718</td>\n",
       "    </tr>\n",
       "    <tr>\n",
       "      <th>Malicious Mischief</th>\n",
       "      <td>45547</td>\n",
       "    </tr>\n",
       "    <tr>\n",
       "      <th>Missing Person</th>\n",
       "      <td>14710</td>\n",
       "    </tr>\n",
       "    <tr>\n",
       "      <th>Non-Criminal</th>\n",
       "      <td>39986</td>\n",
       "    </tr>\n",
       "    <tr>\n",
       "      <th>Other</th>\n",
       "      <td>60220</td>\n",
       "    </tr>\n",
       "    <tr>\n",
       "      <th>Other Offenses</th>\n",
       "      <td>26429</td>\n",
       "    </tr>\n",
       "    <tr>\n",
       "      <th>Suspicious</th>\n",
       "      <td>20990</td>\n",
       "    </tr>\n",
       "    <tr>\n",
       "      <th>Theft and Robbery</th>\n",
       "      <td>241781</td>\n",
       "    </tr>\n",
       "    <tr>\n",
       "      <th>Traffic and Vehicle Offense</th>\n",
       "      <td>62965</td>\n",
       "    </tr>\n",
       "    <tr>\n",
       "      <th>Warrant</th>\n",
       "      <td>19626</td>\n",
       "    </tr>\n",
       "    <tr>\n",
       "      <th>Weapons Offense</th>\n",
       "      <td>8329</td>\n",
       "    </tr>\n",
       "  </tbody>\n",
       "</table>\n",
       "</div>"
      ],
      "text/plain": [
       "                             incident_datetime\n",
       "incident_category                             \n",
       "Assault                                  43167\n",
       "Drug Offense                             16455\n",
       "Financial Offense                        43718\n",
       "Malicious Mischief                       45547\n",
       "Missing Person                           14710\n",
       "Non-Criminal                             39986\n",
       "Other                                    60220\n",
       "Other Offenses                           26429\n",
       "Suspicious                               20990\n",
       "Theft and Robbery                       241781\n",
       "Traffic and Vehicle Offense              62965\n",
       "Warrant                                  19626\n",
       "Weapons Offense                           8329"
      ]
     },
     "execution_count": 128,
     "metadata": {},
     "output_type": "execute_result"
    }
   ],
   "source": [
    "results_df[['incident_datetime','incident_category']].groupby(by='incident_category').count()"
   ]
  },
  {
   "cell_type": "code",
   "execution_count": null,
   "id": "1f822546",
   "metadata": {},
   "outputs": [],
   "source": []
  }
 ],
 "metadata": {
  "kernelspec": {
   "display_name": "Python 3 (ipykernel)",
   "language": "python",
   "name": "python3"
  },
  "language_info": {
   "codemirror_mode": {
    "name": "ipython",
    "version": 3
   },
   "file_extension": ".py",
   "mimetype": "text/x-python",
   "name": "python",
   "nbconvert_exporter": "python",
   "pygments_lexer": "ipython3",
   "version": "3.9.13"
  }
 },
 "nbformat": 4,
 "nbformat_minor": 5
}
